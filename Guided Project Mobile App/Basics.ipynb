{
 "cells": [
  {
   "cell_type": "markdown",
   "metadata": {
    "collapsed": true
   },
   "source": [
    "# Mobile App Development For Gambling Addicts\n",
    "This research wll be to complement the app by informing the user of the apps about the probability of winning in lottery."
   ]
  },
  {
   "cell_type": "markdown",
   "metadata": {},
   "source": [
    "Since we are going to find out more about the probability in 6/49 lottery we are going to define the function of Permutation and Factorial to make the process lighter."
   ]
  },
  {
   "cell_type": "code",
   "execution_count": 1,
   "metadata": {},
   "outputs": [],
   "source": [
    "#Factorial\n",
    "\n",
    "def factorial(n):\n",
    "    factorials = 1\n",
    "    for x in range(n):\n",
    "        factorials *= (n-x)\n",
    "    return factorials\n",
    "\n",
    "#Permutation\n",
    "\n",
    "def permutation(n,k):\n",
    "    return factorial(n) / factorial(n-k)\n",
    "\n",
    "#Combination\n",
    "\n",
    "def combinations(n,k):\n",
    "    return factorial(n)/ (factorial(k) * factorial(n-k))"
   ]
  },
  {
   "cell_type": "markdown",
   "metadata": {},
   "source": [
    "For the first version of the app, we want players to be able to calculate the probability of winning the big prize with the various numbers they play on a single ticket (for each ticket a player chooses six numbers out of 49). So, we'll start by building a function that calculates the probability of winning the big prize for any given ticket.\n",
    "\n",
    "We discussed with the engineering team of the medical institute, and they told us we need to be aware of the following details when we write the function:\n",
    "\n",
    "* Inside the app, the user inputs six different numbers from 1 to 49.\n",
    "* Under the hood, the six numbers will come as a Python list, which will serve as the single input to our function.\n",
    "* The engineering team wants the function to print the probability value in a friendly way — in a way that people without any probability training are able to understand.\n"
   ]
  },
  {
   "cell_type": "code",
   "execution_count": 2,
   "metadata": {},
   "outputs": [],
   "source": [
    "def one_ticket_probability(a):\n",
    "    p_comb = (1 / combinations(49, len(a)))*100 #first is the probability of winning (1/comb since only 1 sucessful outomes)\n",
    "    print(\"With a ticket number {}, the probability of winning the lottery is {:.7f}% which is 1 over {:,} possibilities\".format(a,p_comb, int(combinations(49, len(a))))) #This to make it more interactive with the user"
   ]
  },
  {
   "cell_type": "code",
   "execution_count": 3,
   "metadata": {},
   "outputs": [
    {
     "name": "stdout",
     "output_type": "stream",
     "text": [
      "With a ticket number [5, 9, 21, 40, 39, 42], the probability of winning the lottery is 0.0000072% which is 1 over 13,983,816 possibilities\n"
     ]
    }
   ],
   "source": [
    "one_ticket_probability([5,9,21,40,39,42])"
   ]
  },
  {
   "cell_type": "markdown",
   "metadata": {},
   "source": [
    "#### Historical Comparison\n",
    "we wrote a function that can tell users what is the probability of winning the big prize with a single ticket. For the first version of the app, however, users should also be able to compare their ticket against the historical lottery data in Canada and determine whether they would have ever won by now."
   ]
  },
  {
   "cell_type": "code",
   "execution_count": 4,
   "metadata": {},
   "outputs": [
    {
     "data": {
      "text/html": [
       "<div>\n",
       "<style scoped>\n",
       "    .dataframe tbody tr th:only-of-type {\n",
       "        vertical-align: middle;\n",
       "    }\n",
       "\n",
       "    .dataframe tbody tr th {\n",
       "        vertical-align: top;\n",
       "    }\n",
       "\n",
       "    .dataframe thead th {\n",
       "        text-align: right;\n",
       "    }\n",
       "</style>\n",
       "<table border=\"1\" class=\"dataframe\">\n",
       "  <thead>\n",
       "    <tr style=\"text-align: right;\">\n",
       "      <th></th>\n",
       "      <th>PRODUCT</th>\n",
       "      <th>DRAW NUMBER</th>\n",
       "      <th>SEQUENCE NUMBER</th>\n",
       "      <th>DRAW DATE</th>\n",
       "      <th>NUMBER DRAWN 1</th>\n",
       "      <th>NUMBER DRAWN 2</th>\n",
       "      <th>NUMBER DRAWN 3</th>\n",
       "      <th>NUMBER DRAWN 4</th>\n",
       "      <th>NUMBER DRAWN 5</th>\n",
       "      <th>NUMBER DRAWN 6</th>\n",
       "      <th>BONUS NUMBER</th>\n",
       "    </tr>\n",
       "  </thead>\n",
       "  <tbody>\n",
       "    <tr>\n",
       "      <th>0</th>\n",
       "      <td>649</td>\n",
       "      <td>1</td>\n",
       "      <td>0</td>\n",
       "      <td>6/12/1982</td>\n",
       "      <td>3</td>\n",
       "      <td>11</td>\n",
       "      <td>12</td>\n",
       "      <td>14</td>\n",
       "      <td>41</td>\n",
       "      <td>43</td>\n",
       "      <td>13</td>\n",
       "    </tr>\n",
       "    <tr>\n",
       "      <th>1</th>\n",
       "      <td>649</td>\n",
       "      <td>2</td>\n",
       "      <td>0</td>\n",
       "      <td>6/19/1982</td>\n",
       "      <td>8</td>\n",
       "      <td>33</td>\n",
       "      <td>36</td>\n",
       "      <td>37</td>\n",
       "      <td>39</td>\n",
       "      <td>41</td>\n",
       "      <td>9</td>\n",
       "    </tr>\n",
       "    <tr>\n",
       "      <th>2</th>\n",
       "      <td>649</td>\n",
       "      <td>3</td>\n",
       "      <td>0</td>\n",
       "      <td>6/26/1982</td>\n",
       "      <td>1</td>\n",
       "      <td>6</td>\n",
       "      <td>23</td>\n",
       "      <td>24</td>\n",
       "      <td>27</td>\n",
       "      <td>39</td>\n",
       "      <td>34</td>\n",
       "    </tr>\n",
       "    <tr>\n",
       "      <th>3</th>\n",
       "      <td>649</td>\n",
       "      <td>4</td>\n",
       "      <td>0</td>\n",
       "      <td>7/3/1982</td>\n",
       "      <td>3</td>\n",
       "      <td>9</td>\n",
       "      <td>10</td>\n",
       "      <td>13</td>\n",
       "      <td>20</td>\n",
       "      <td>43</td>\n",
       "      <td>34</td>\n",
       "    </tr>\n",
       "    <tr>\n",
       "      <th>4</th>\n",
       "      <td>649</td>\n",
       "      <td>5</td>\n",
       "      <td>0</td>\n",
       "      <td>7/10/1982</td>\n",
       "      <td>5</td>\n",
       "      <td>14</td>\n",
       "      <td>21</td>\n",
       "      <td>31</td>\n",
       "      <td>34</td>\n",
       "      <td>47</td>\n",
       "      <td>45</td>\n",
       "    </tr>\n",
       "  </tbody>\n",
       "</table>\n",
       "</div>"
      ],
      "text/plain": [
       "   PRODUCT  DRAW NUMBER  SEQUENCE NUMBER  DRAW DATE  NUMBER DRAWN 1  \\\n",
       "0      649            1                0  6/12/1982               3   \n",
       "1      649            2                0  6/19/1982               8   \n",
       "2      649            3                0  6/26/1982               1   \n",
       "3      649            4                0   7/3/1982               3   \n",
       "4      649            5                0  7/10/1982               5   \n",
       "\n",
       "   NUMBER DRAWN 2  NUMBER DRAWN 3  NUMBER DRAWN 4  NUMBER DRAWN 5  \\\n",
       "0              11              12              14              41   \n",
       "1              33              36              37              39   \n",
       "2               6              23              24              27   \n",
       "3               9              10              13              20   \n",
       "4              14              21              31              34   \n",
       "\n",
       "   NUMBER DRAWN 6  BONUS NUMBER  \n",
       "0              43            13  \n",
       "1              41             9  \n",
       "2              39            34  \n",
       "3              43            34  \n",
       "4              47            45  "
      ]
     },
     "execution_count": 4,
     "metadata": {},
     "output_type": "execute_result"
    }
   ],
   "source": [
    "#reading the data\n",
    "import pandas as pd\n",
    "past_draws = pd.read_csv(\"649.csv\")\n",
    "past_draws.head(5) #first 5 of the data"
   ]
  },
  {
   "cell_type": "code",
   "execution_count": 5,
   "metadata": {},
   "outputs": [],
   "source": [
    "#Extracting numbers to get past winning records\n",
    "def extract_numbers(row):\n",
    "    winning_num = row[4:10]\n",
    "    return set(winning_num.values)\n",
    "\n",
    "winning_numbers = past_draws.apply(extract_numbers, axis = 1)\n",
    "\n",
    "#Function for Checking Historical Occurence\n",
    "def check_historical_occurence(user_numbers,historical_data):\n",
    "    ticket = set(user_numbers)\n",
    "    Counter = historical_data.apply(lambda x: ticket == x)\n",
    "    if sum(Counter) == 0:\n",
    "        print(\"Ticket number {}, never happened in the past\".format(user_numbers))\n",
    "        one_ticket_probability(user_numbers)\n",
    "    else:\n",
    "        print(\"Ticket Number {} have occured {} time(s) before\".format(user_numbers,sum(Counter)))\n",
    "        one_ticket_probability(user_numbers)\n",
    "    "
   ]
  },
  {
   "cell_type": "code",
   "execution_count": 6,
   "metadata": {},
   "outputs": [
    {
     "name": "stdout",
     "output_type": "stream",
     "text": [
      "Ticket number [1, 6, 23, 24, 39, 25], never happened in the past\n",
      "With a ticket number [1, 6, 23, 24, 39, 25], the probability of winning the lottery is 0.0000072% which is 1 over 13,983,816 possibilities\n"
     ]
    }
   ],
   "source": [
    "check_historical_occurence([1, 6 , 23 , 24 , 39 , 25],winning_numbers)"
   ]
  },
  {
   "cell_type": "markdown",
   "metadata": {},
   "source": [
    "So far, we wrote two functions:\n",
    "\n",
    "* one_ticket_probability() — calculates the probability of winning the big prize with a single ticket\n",
    "* check_historical_occurrence() — checks whether a certain combination has occurred in the Canada lottery data set\n",
    "\n",
    "Lottery addicts usually play more than one ticket on a single drawing, thinking that this might increase their chances of winning significantly. Our purpose is to help them better estimate their chances of winning — we're going to write a function that will allow the users to calculate the chances of winning for any number of different tickets.\n",
    "\n",
    "We've talked with the engineering team and they gave us the following information:\n",
    "\n",
    "* The user will input the number of different tickets they want to play (without inputting the specific combinations they intend to play).\n",
    "* Our function will see an integer between 1 and 13,983,816 (the maximum number of different tickets).\n",
    "* The function should print information about the probability of winning the big prize depending on the number of different tickets played.\n",
    "\n",
    "Let's now start writing this function."
   ]
  },
  {
   "cell_type": "markdown",
   "metadata": {},
   "source": [
    "#### Multiple Number of Comb"
   ]
  },
  {
   "cell_type": "code",
   "execution_count": 7,
   "metadata": {},
   "outputs": [],
   "source": [
    "#function for mutiple probability\n",
    "def multi_tick_probability(n):\n",
    "    p_comb = (n / combinations(49,6))*100 #first is the probability of winning (n/comb since there are n sucessful outomes)\n",
    "    print(\"With \\033[1m{}\\033[0m number of tickets, the probability of winning the lottery is \\033[1m{:.7f}%\\033[0m which is {} over {:,} possibilities\".format(n,p_comb,n, int(combinations(49,6)))) #This to make it more interactive with the user\n",
    "    "
   ]
  },
  {
   "cell_type": "code",
   "execution_count": 8,
   "metadata": {},
   "outputs": [
    {
     "name": "stdout",
     "output_type": "stream",
     "text": [
      "With \u001b[1m1\u001b[0m number of tickets, the probability of winning the lottery is \u001b[1m0.0000072%\u001b[0m which is 1 over 13,983,816 possibilities\n",
      "With \u001b[1m10\u001b[0m number of tickets, the probability of winning the lottery is \u001b[1m0.0000715%\u001b[0m which is 10 over 13,983,816 possibilities\n",
      "With \u001b[1m100\u001b[0m number of tickets, the probability of winning the lottery is \u001b[1m0.0007151%\u001b[0m which is 100 over 13,983,816 possibilities\n",
      "With \u001b[1m10000\u001b[0m number of tickets, the probability of winning the lottery is \u001b[1m0.0715112%\u001b[0m which is 10000 over 13,983,816 possibilities\n",
      "With \u001b[1m100000\u001b[0m number of tickets, the probability of winning the lottery is \u001b[1m0.7151124%\u001b[0m which is 100000 over 13,983,816 possibilities\n",
      "With \u001b[1m6991908\u001b[0m number of tickets, the probability of winning the lottery is \u001b[1m50.0000000%\u001b[0m which is 6991908 over 13,983,816 possibilities\n",
      "With \u001b[1m13982816\u001b[0m number of tickets, the probability of winning the lottery is \u001b[1m99.9928489%\u001b[0m which is 13982816 over 13,983,816 possibilities\n"
     ]
    }
   ],
   "source": [
    "for x in [1,10,100,10000,100000,6991908,13982816]:\n",
    "    multi_tick_probability(x)"
   ]
  },
  {
   "cell_type": "markdown",
   "metadata": {},
   "source": [
    "#### Probability less 6"
   ]
  },
  {
   "cell_type": "markdown",
   "metadata": {},
   "source": [
    "For extra context, in most 6/49 lotteries there are smaller prizes if a player's ticket match two, three, four, or five of the six numbers drawn. As a consequence, the users might be interested in knowing the probability of having two, three, four, or five winning numbers.\n",
    "\n",
    "These are the engineering details we'll need to be aware of:\n",
    "<br/> \n",
    "<br/> &emsp; Inside the app, the user inputs:\n",
    "* six different numbers from 1 to 49; and\n",
    "* an integer between 2 and 5 that represents the number of winning numbers expected\n",
    "\n",
    "&emsp; Our function prints information about the probability of having the inputted number of winning numbers.\n"
   ]
  },
  {
   "cell_type": "code",
   "execution_count": 33,
   "metadata": {},
   "outputs": [],
   "source": [
    "def probability_less_6(exp_num):\n",
    "    successfull_output = combinations(6,exp_num)\n",
    "    possible_left = combinations(43,6-exp_num)\n",
    "    possiblity_app = successfull_output * possible_left\n",
    "    porbab = (possiblity_app/(combinations(49,6)))*100\n",
    "    print(\"The probability of Winning with {} ammount of winning num is {:.5f}%\".format(exp_num,porbab))"
   ]
  },
  {
   "cell_type": "code",
   "execution_count": 34,
   "metadata": {},
   "outputs": [
    {
     "name": "stdout",
     "output_type": "stream",
     "text": [
      "The probability of Winning with 2 ammount of winning num is 13.23780%\n"
     ]
    }
   ],
   "source": [
    "probability_less_6(2)"
   ]
  },
  {
   "cell_type": "code",
   "execution_count": 35,
   "metadata": {},
   "outputs": [
    {
     "name": "stdout",
     "output_type": "stream",
     "text": [
      "The probability of Winning with 2 ammount of winning num is 13.23780%\n",
      "-----------------------------------------------\n",
      "The probability of Winning with 3 ammount of winning num is 1.76504%\n",
      "-----------------------------------------------\n",
      "The probability of Winning with 5 ammount of winning num is 0.00184%\n",
      "-----------------------------------------------\n"
     ]
    }
   ],
   "source": [
    "#input testing\n",
    "for num in [2,3,5]:\n",
    "    probability_less_6(num)\n",
    "    print(\"-----------------------------------------------\")"
   ]
  },
  {
   "cell_type": "code",
   "execution_count": null,
   "metadata": {},
   "outputs": [],
   "source": []
  }
 ],
 "metadata": {
  "kernelspec": {
   "display_name": "Python 3",
   "language": "python",
   "name": "python3"
  },
  "language_info": {
   "codemirror_mode": {
    "name": "ipython",
    "version": 3
   },
   "file_extension": ".py",
   "mimetype": "text/x-python",
   "name": "python",
   "nbconvert_exporter": "python",
   "pygments_lexer": "ipython3",
   "version": "3.8.5"
  }
 },
 "nbformat": 4,
 "nbformat_minor": 2
}
