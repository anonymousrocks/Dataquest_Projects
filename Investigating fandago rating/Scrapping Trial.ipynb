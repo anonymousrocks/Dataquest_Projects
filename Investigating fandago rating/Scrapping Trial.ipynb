{
 "cells": [
  {
   "cell_type": "code",
   "execution_count": 1,
   "metadata": {},
   "outputs": [],
   "source": [
    "import pandas as pd\n",
    "import matplotlib.pyplot as plt\n",
    "import os\n",
    "from requests import get\n",
    "from bs4 import BeautifulSoup"
   ]
  },
  {
   "cell_type": "code",
   "execution_count": 28,
   "metadata": {},
   "outputs": [],
   "source": [
    "url = \"https://www.imdb.com/search/title/?release_date=2017&sort=num_votes,desc&page=1&ref_=adv_nxt\""
   ]
  },
  {
   "cell_type": "code",
   "execution_count": 29,
   "metadata": {},
   "outputs": [],
   "source": [
    "response = get(url)"
   ]
  },
  {
   "cell_type": "code",
   "execution_count": 30,
   "metadata": {},
   "outputs": [
    {
     "name": "stdout",
     "output_type": "stream",
     "text": [
      "\n",
      "\n",
      "<!DOCTYPE html>\n",
      "<html\n",
      "    xmlns:og=\"http://ogp.me/ns#\"\n",
      "    xmlns:fb=\"http://www.facebook.com/2008/fbml\">\n",
      "    <head>\n",
      "         \n",
      "        <meta charset=\"utf-8\">\n",
      "        <meta http-equiv=\"X-UA-Compatible\" content=\"IE=edge\">\n",
      "\n",
      "    <meta name=\"apple-itunes-app\" content=\"app-id=342792525, app-argument=imdb:///?src=mdot\">\n",
      "\n",
      "\n",
      "\n",
      "        <script type=\"text/javascript\">var IMDbTimer={starttime: new Date().getTime(),pt:'java'};</script>\n",
      "\n",
      "<script>\n",
      "    if (typeof uet == 'function') {\n",
      "      uet(\"bb\", \"LoadTitle\",\n"
     ]
    }
   ],
   "source": [
    "print(response.text[:500])"
   ]
  },
  {
   "cell_type": "code",
   "execution_count": 31,
   "metadata": {},
   "outputs": [],
   "source": [
    "html_soup = BeautifulSoup(response.text, \"html.parser\")"
   ]
  },
  {
   "cell_type": "code",
   "execution_count": 32,
   "metadata": {},
   "outputs": [],
   "source": [
    "movie_containers = html_soup.find_all(\"div\", class_ = \"lister-item mode-advanced\")"
   ]
  },
  {
   "cell_type": "code",
   "execution_count": 33,
   "metadata": {},
   "outputs": [],
   "source": [
    "first_movie = movie_containers[0]"
   ]
  },
  {
   "cell_type": "code",
   "execution_count": 34,
   "metadata": {},
   "outputs": [
    {
     "data": {
      "text/plain": [
       "'Logan'"
      ]
     },
     "execution_count": 34,
     "metadata": {},
     "output_type": "execute_result"
    }
   ],
   "source": [
    "#name\n",
    "first_movie.h3.a.text"
   ]
  },
  {
   "cell_type": "code",
   "execution_count": 22,
   "metadata": {},
   "outputs": [],
   "source": [
    "#year\n",
    "first_year = first_movie.h3.find(\"span\", class_ = \"lister-item-year text-muted unbold\")\n",
    "first_year = first_year.text"
   ]
  },
  {
   "cell_type": "code",
   "execution_count": 23,
   "metadata": {},
   "outputs": [
    {
     "data": {
      "text/plain": [
       "'8.1'"
      ]
     },
     "execution_count": 23,
     "metadata": {},
     "output_type": "execute_result"
    }
   ],
   "source": [
    "#rating imdb\n",
    "first_movie.strong.text"
   ]
  },
  {
   "cell_type": "code",
   "execution_count": 24,
   "metadata": {},
   "outputs": [
    {
     "data": {
      "text/plain": [
       "'77        '"
      ]
     },
     "execution_count": 24,
     "metadata": {},
     "output_type": "execute_result"
    }
   ],
   "source": [
    "#metascore\n",
    "first_movie.find(\"span\", class_ = \"metascore favorable\").text"
   ]
  },
  {
   "cell_type": "code",
   "execution_count": 25,
   "metadata": {},
   "outputs": [
    {
     "data": {
      "text/plain": [
       "'655184'"
      ]
     },
     "execution_count": 25,
     "metadata": {},
     "output_type": "execute_result"
    }
   ],
   "source": [
    "#user votes\n",
    "first_movie.find(\"span\", attrs ={\"name\":\"nv\"})[\"data-value\"]"
   ]
  },
  {
   "cell_type": "code",
   "execution_count": 26,
   "metadata": {},
   "outputs": [],
   "source": [
    "#Pages Extract\n",
    "name = []\n",
    "year = []\n",
    "imdb = []\n",
    "metascore = []\n",
    "nv = [] \n",
    "\n",
    "for num in range(0,len(movie_containers)):\n",
    "    #extract if there is meta score\n",
    "    if movie_containers[num].find(\"span\", class_ = \"metascore favorable\") is not None: \n",
    "        #name\n",
    "        names = movie_containers[num].h3.a.text\n",
    "        name.append(names)\n",
    "        #year\n",
    "        years = movie_containers[num].find(\"span\", class_ = \"lister-item-year text-muted unbold\").text\n",
    "        year.append(years)\n",
    "        #rating imdb\n",
    "        rat_imdb = float(movie_containers[num].strong.text)\n",
    "        imdb.append(rat_imdb)\n",
    "        #metascore\n",
    "        mt = float(movie_containers[num].find(\"span\", class_ = \"metascore favorable\").text)\n",
    "        metascore.append(mt)\n",
    "        #nv\n",
    "        votes = int(movie_containers[num].find(\"span\", attrs ={\"name\":\"nv\"})[\"data-value\"])\n",
    "        nv.append(votes)"
   ]
  },
  {
   "cell_type": "code",
   "execution_count": 27,
   "metadata": {},
   "outputs": [
    {
     "data": {
      "text/html": [
       "<div>\n",
       "<style scoped>\n",
       "    .dataframe tbody tr th:only-of-type {\n",
       "        vertical-align: middle;\n",
       "    }\n",
       "\n",
       "    .dataframe tbody tr th {\n",
       "        vertical-align: top;\n",
       "    }\n",
       "\n",
       "    .dataframe thead th {\n",
       "        text-align: right;\n",
       "    }\n",
       "</style>\n",
       "<table border=\"1\" class=\"dataframe\">\n",
       "  <thead>\n",
       "    <tr style=\"text-align: right;\">\n",
       "      <th></th>\n",
       "      <th>movies</th>\n",
       "      <th>year</th>\n",
       "      <th>imdb</th>\n",
       "      <th>metascore</th>\n",
       "      <th>nv</th>\n",
       "    </tr>\n",
       "  </thead>\n",
       "  <tbody>\n",
       "    <tr>\n",
       "      <th>0</th>\n",
       "      <td>Logan</td>\n",
       "      <td>(2017)</td>\n",
       "      <td>8.1</td>\n",
       "      <td>77.0</td>\n",
       "      <td>655184</td>\n",
       "    </tr>\n",
       "    <tr>\n",
       "      <th>1</th>\n",
       "      <td>Thor: Ragnarok</td>\n",
       "      <td>(2017)</td>\n",
       "      <td>7.9</td>\n",
       "      <td>74.0</td>\n",
       "      <td>598070</td>\n",
       "    </tr>\n",
       "    <tr>\n",
       "      <th>2</th>\n",
       "      <td>Guardians of the Galaxy Vol. 2</td>\n",
       "      <td>(2017)</td>\n",
       "      <td>7.6</td>\n",
       "      <td>67.0</td>\n",
       "      <td>577083</td>\n",
       "    </tr>\n",
       "    <tr>\n",
       "      <th>3</th>\n",
       "      <td>Wonder Woman</td>\n",
       "      <td>(2017)</td>\n",
       "      <td>7.4</td>\n",
       "      <td>76.0</td>\n",
       "      <td>575865</td>\n",
       "    </tr>\n",
       "    <tr>\n",
       "      <th>4</th>\n",
       "      <td>Star Wars: Episode VIII - The Last Jedi</td>\n",
       "      <td>(2017)</td>\n",
       "      <td>7.0</td>\n",
       "      <td>84.0</td>\n",
       "      <td>570019</td>\n",
       "    </tr>\n",
       "    <tr>\n",
       "      <th>5</th>\n",
       "      <td>Dunkirk</td>\n",
       "      <td>(2017)</td>\n",
       "      <td>7.8</td>\n",
       "      <td>94.0</td>\n",
       "      <td>562925</td>\n",
       "    </tr>\n",
       "    <tr>\n",
       "      <th>6</th>\n",
       "      <td>Spider-Man: Homecoming</td>\n",
       "      <td>(2017)</td>\n",
       "      <td>7.4</td>\n",
       "      <td>73.0</td>\n",
       "      <td>520700</td>\n",
       "    </tr>\n",
       "    <tr>\n",
       "      <th>7</th>\n",
       "      <td>Get Out</td>\n",
       "      <td>(I) (2017)</td>\n",
       "      <td>7.7</td>\n",
       "      <td>85.0</td>\n",
       "      <td>499350</td>\n",
       "    </tr>\n",
       "    <tr>\n",
       "      <th>8</th>\n",
       "      <td>Blade Runner 2049</td>\n",
       "      <td>(2017)</td>\n",
       "      <td>8.0</td>\n",
       "      <td>81.0</td>\n",
       "      <td>468966</td>\n",
       "    </tr>\n",
       "    <tr>\n",
       "      <th>9</th>\n",
       "      <td>It</td>\n",
       "      <td>(I) (2017)</td>\n",
       "      <td>7.3</td>\n",
       "      <td>69.0</td>\n",
       "      <td>463725</td>\n",
       "    </tr>\n",
       "    <tr>\n",
       "      <th>10</th>\n",
       "      <td>Baby Driver</td>\n",
       "      <td>(2017)</td>\n",
       "      <td>7.6</td>\n",
       "      <td>86.0</td>\n",
       "      <td>445218</td>\n",
       "    </tr>\n",
       "    <tr>\n",
       "      <th>11</th>\n",
       "      <td>Three Billboards Outside Ebbing, Missouri</td>\n",
       "      <td>(2017)</td>\n",
       "      <td>8.1</td>\n",
       "      <td>88.0</td>\n",
       "      <td>440186</td>\n",
       "    </tr>\n",
       "    <tr>\n",
       "      <th>12</th>\n",
       "      <td>Coco</td>\n",
       "      <td>(I) (2017)</td>\n",
       "      <td>8.4</td>\n",
       "      <td>81.0</td>\n",
       "      <td>393589</td>\n",
       "    </tr>\n",
       "    <tr>\n",
       "      <th>13</th>\n",
       "      <td>The Shape of Water</td>\n",
       "      <td>(2017)</td>\n",
       "      <td>7.3</td>\n",
       "      <td>87.0</td>\n",
       "      <td>375888</td>\n",
       "    </tr>\n",
       "    <tr>\n",
       "      <th>14</th>\n",
       "      <td>John Wick: Chapter 2</td>\n",
       "      <td>(2017)</td>\n",
       "      <td>7.5</td>\n",
       "      <td>75.0</td>\n",
       "      <td>371048</td>\n",
       "    </tr>\n",
       "    <tr>\n",
       "      <th>15</th>\n",
       "      <td>Beauty and the Beast</td>\n",
       "      <td>(I) (2017)</td>\n",
       "      <td>7.1</td>\n",
       "      <td>65.0</td>\n",
       "      <td>277078</td>\n",
       "    </tr>\n",
       "    <tr>\n",
       "      <th>16</th>\n",
       "      <td>Kong: Skull Island</td>\n",
       "      <td>(2017)</td>\n",
       "      <td>6.6</td>\n",
       "      <td>62.0</td>\n",
       "      <td>275120</td>\n",
       "    </tr>\n",
       "    <tr>\n",
       "      <th>17</th>\n",
       "      <td>Alien: Covenant</td>\n",
       "      <td>(2017)</td>\n",
       "      <td>6.4</td>\n",
       "      <td>65.0</td>\n",
       "      <td>256198</td>\n",
       "    </tr>\n",
       "    <tr>\n",
       "      <th>18</th>\n",
       "      <td>Lady Bird</td>\n",
       "      <td>(2017)</td>\n",
       "      <td>7.4</td>\n",
       "      <td>94.0</td>\n",
       "      <td>245688</td>\n",
       "    </tr>\n",
       "    <tr>\n",
       "      <th>19</th>\n",
       "      <td>War for the Planet of the Apes</td>\n",
       "      <td>(2017)</td>\n",
       "      <td>7.4</td>\n",
       "      <td>82.0</td>\n",
       "      <td>229737</td>\n",
       "    </tr>\n",
       "    <tr>\n",
       "      <th>20</th>\n",
       "      <td>Call Me by Your Name</td>\n",
       "      <td>(2017)</td>\n",
       "      <td>7.9</td>\n",
       "      <td>93.0</td>\n",
       "      <td>217592</td>\n",
       "    </tr>\n",
       "    <tr>\n",
       "      <th>21</th>\n",
       "      <td>Wind River</td>\n",
       "      <td>(2017)</td>\n",
       "      <td>7.7</td>\n",
       "      <td>73.0</td>\n",
       "      <td>209819</td>\n",
       "    </tr>\n",
       "    <tr>\n",
       "      <th>22</th>\n",
       "      <td>Mother!</td>\n",
       "      <td>(2017)</td>\n",
       "      <td>6.6</td>\n",
       "      <td>75.0</td>\n",
       "      <td>193446</td>\n",
       "    </tr>\n",
       "    <tr>\n",
       "      <th>23</th>\n",
       "      <td>I, Tonya</td>\n",
       "      <td>(2017)</td>\n",
       "      <td>7.5</td>\n",
       "      <td>77.0</td>\n",
       "      <td>185013</td>\n",
       "    </tr>\n",
       "    <tr>\n",
       "      <th>24</th>\n",
       "      <td>Atomic Blonde</td>\n",
       "      <td>(2017)</td>\n",
       "      <td>6.7</td>\n",
       "      <td>63.0</td>\n",
       "      <td>177565</td>\n",
       "    </tr>\n",
       "    <tr>\n",
       "      <th>25</th>\n",
       "      <td>Darkest Hour</td>\n",
       "      <td>(2017)</td>\n",
       "      <td>7.4</td>\n",
       "      <td>75.0</td>\n",
       "      <td>174341</td>\n",
       "    </tr>\n",
       "    <tr>\n",
       "      <th>26</th>\n",
       "      <td>American Made</td>\n",
       "      <td>(2017)</td>\n",
       "      <td>7.2</td>\n",
       "      <td>65.0</td>\n",
       "      <td>160119</td>\n",
       "    </tr>\n",
       "  </tbody>\n",
       "</table>\n",
       "</div>"
      ],
      "text/plain": [
       "                                       movies        year  imdb  metascore  \\\n",
       "0                                       Logan      (2017)   8.1       77.0   \n",
       "1                              Thor: Ragnarok      (2017)   7.9       74.0   \n",
       "2              Guardians of the Galaxy Vol. 2      (2017)   7.6       67.0   \n",
       "3                                Wonder Woman      (2017)   7.4       76.0   \n",
       "4     Star Wars: Episode VIII - The Last Jedi      (2017)   7.0       84.0   \n",
       "5                                     Dunkirk      (2017)   7.8       94.0   \n",
       "6                      Spider-Man: Homecoming      (2017)   7.4       73.0   \n",
       "7                                     Get Out  (I) (2017)   7.7       85.0   \n",
       "8                           Blade Runner 2049      (2017)   8.0       81.0   \n",
       "9                                          It  (I) (2017)   7.3       69.0   \n",
       "10                                Baby Driver      (2017)   7.6       86.0   \n",
       "11  Three Billboards Outside Ebbing, Missouri      (2017)   8.1       88.0   \n",
       "12                                       Coco  (I) (2017)   8.4       81.0   \n",
       "13                         The Shape of Water      (2017)   7.3       87.0   \n",
       "14                       John Wick: Chapter 2      (2017)   7.5       75.0   \n",
       "15                       Beauty and the Beast  (I) (2017)   7.1       65.0   \n",
       "16                         Kong: Skull Island      (2017)   6.6       62.0   \n",
       "17                            Alien: Covenant      (2017)   6.4       65.0   \n",
       "18                                  Lady Bird      (2017)   7.4       94.0   \n",
       "19             War for the Planet of the Apes      (2017)   7.4       82.0   \n",
       "20                       Call Me by Your Name      (2017)   7.9       93.0   \n",
       "21                                 Wind River      (2017)   7.7       73.0   \n",
       "22                                    Mother!      (2017)   6.6       75.0   \n",
       "23                                   I, Tonya      (2017)   7.5       77.0   \n",
       "24                              Atomic Blonde      (2017)   6.7       63.0   \n",
       "25                               Darkest Hour      (2017)   7.4       75.0   \n",
       "26                              American Made      (2017)   7.2       65.0   \n",
       "\n",
       "        nv  \n",
       "0   655184  \n",
       "1   598070  \n",
       "2   577083  \n",
       "3   575865  \n",
       "4   570019  \n",
       "5   562925  \n",
       "6   520700  \n",
       "7   499350  \n",
       "8   468966  \n",
       "9   463725  \n",
       "10  445218  \n",
       "11  440186  \n",
       "12  393589  \n",
       "13  375888  \n",
       "14  371048  \n",
       "15  277078  \n",
       "16  275120  \n",
       "17  256198  \n",
       "18  245688  \n",
       "19  229737  \n",
       "20  217592  \n",
       "21  209819  \n",
       "22  193446  \n",
       "23  185013  \n",
       "24  177565  \n",
       "25  174341  \n",
       "26  160119  "
      ]
     },
     "execution_count": 27,
     "metadata": {},
     "output_type": "execute_result"
    }
   ],
   "source": [
    "pd.DataFrame({\"movies\" : name, \"year\" : year, \"imdb\" : imdb, \"metascore\" : metascore, \"nv\" : nv})"
   ]
  },
  {
   "cell_type": "code",
   "execution_count": 37,
   "metadata": {},
   "outputs": [],
   "source": [
    "pages_url = [str(i) for i in range(1,5)]\n",
    "year_url = [str(i) for i in range(2000,2018)]"
   ]
  },
  {
   "cell_type": "code",
   "execution_count": 45,
   "metadata": {},
   "outputs": [
    {
     "name": "stderr",
     "output_type": "stream",
     "text": [
      "<ipython-input-45-8fef470c0f68>:7: UserWarning: Warning Simulation\n",
      "  warn(\"Warning Simulation\")\n"
     ]
    }
   ],
   "source": [
    "from time import sleep\n",
    "from random import randint\n",
    "from time import time\n",
    "start_time = time()\n",
    "from IPython.core.display import clear_output\n",
    "from warnings import warn\n",
    "warn(\"Warning Simulation\")"
   ]
  },
  {
   "cell_type": "code",
   "execution_count": 46,
   "metadata": {},
   "outputs": [
    {
     "name": "stdout",
     "output_type": "stream",
     "text": [
      "Request: 72; Frequency: 0.07097284747249094 requests/s\n"
     ]
    }
   ],
   "source": [
    "#Aggregate scrapping\n",
    "name = []\n",
    "year = []\n",
    "imdb = []\n",
    "metascore = []\n",
    "nv = [] \n",
    "request = 0\n",
    "\n",
    "for y in year_url:\n",
    "    for p in pages_url:\n",
    "        \n",
    "        #get request\n",
    "        url = \"https://www.imdb.com/search/title/?release_date={}&sort=num_votes,desc&page={}&ref_=adv_nxt\".format(y,p)\n",
    "        response = get(url)\n",
    "        \n",
    "        #pausing loop \n",
    "        sleep(randint(8,15))\n",
    "        \n",
    "        #monitoring the requests\n",
    "        request += 1 \n",
    "        elapsed_time = time() - start_time\n",
    "        print(\"Request: {}; Frequency: {} requests/s\".format(request, request/elapsed_time))\n",
    "        clear_output(wait = True)\n",
    "        \n",
    "        #Throw warning for non - 200 status codes\n",
    "        if response.status_code != 200:\n",
    "            warn(\"Request :{}; Status code: {}\".format(request,response.status_code))\n",
    "        \n",
    "        #Stop the loop if bigger than 72\n",
    "        if request > 72 : \n",
    "            warn(\"Number of requests was greater than expected.\")\n",
    "            break\n",
    "        \n",
    "        html_soup = BeautifulSoup(response.text, \"html.parser\")\n",
    "        movie_containers = html_soup.find_all(\"div\", class_ = \"lister-item mode-advanced\")\n",
    "        for container in movie_containers:\n",
    "        #extract if there is meta score\n",
    "            if container.find(\"span\", class_ = \"metascore favorable\") is not None: \n",
    "                #name\n",
    "                names = container.h3.a.text\n",
    "                name.append(names)\n",
    "                #year\n",
    "                years = container.find(\"span\", class_ = \"lister-item-year text-muted unbold\").text\n",
    "                year.append(years)\n",
    "                #rating imdb\n",
    "                rat_imdb = float(container.strong.text)\n",
    "                imdb.append(rat_imdb)\n",
    "                #metascore\n",
    "                mt = float(container.find(\"span\", class_ = \"metascore favorable\").text)\n",
    "                metascore.append(mt)\n",
    "                #nv\n",
    "                votes = int(container.find(\"span\", attrs ={\"name\":\"nv\"})[\"data-value\"])\n",
    "                nv.append(votes)"
   ]
  },
  {
   "cell_type": "code",
   "execution_count": 50,
   "metadata": {},
   "outputs": [],
   "source": [
    "mr = pd.DataFrame({\"movies\" : name, \"year\" : year, \"imdb\" : imdb, \"metascore\" : metascore, \"nv\" : nv})"
   ]
  },
  {
   "cell_type": "code",
   "execution_count": 55,
   "metadata": {},
   "outputs": [],
   "source": [
    "mr[\"year\"] = mr[\"year\"].str.extract(\"(\\d+)\")"
   ]
  },
  {
   "cell_type": "code",
   "execution_count": 56,
   "metadata": {},
   "outputs": [
    {
     "data": {
      "text/plain": [
       "array(['2000', '2001', '2002', '2003', '2004', '2005', '2006', '2007',\n",
       "       '2008', '2009', '2010', '2011', '2012', '2013', '2014', '2015',\n",
       "       '2016', '2017'], dtype=object)"
      ]
     },
     "execution_count": 56,
     "metadata": {},
     "output_type": "execute_result"
    }
   ],
   "source": [
    "mr[\"year\"].unique()"
   ]
  },
  {
   "cell_type": "code",
   "execution_count": 57,
   "metadata": {},
   "outputs": [],
   "source": [
    "mr.to_csv(\"rating_scrapped.csv\")"
   ]
  },
  {
   "cell_type": "code",
   "execution_count": null,
   "metadata": {},
   "outputs": [],
   "source": []
  }
 ],
 "metadata": {
  "kernelspec": {
   "display_name": "Python 3",
   "language": "python",
   "name": "python3"
  },
  "language_info": {
   "codemirror_mode": {
    "name": "ipython",
    "version": 3
   },
   "file_extension": ".py",
   "mimetype": "text/x-python",
   "name": "python",
   "nbconvert_exporter": "python",
   "pygments_lexer": "ipython3",
   "version": "3.8.5"
  }
 },
 "nbformat": 4,
 "nbformat_minor": 4
}
