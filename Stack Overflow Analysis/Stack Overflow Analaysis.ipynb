{
 "cells": [
  {
   "cell_type": "markdown",
   "metadata": {},
   "source": [
    "# STACK OVERFLOW ANALYSIS"
   ]
  },
  {
   "cell_type": "code",
   "execution_count": 1,
   "metadata": {},
   "outputs": [],
   "source": [
    "import pandas as pd \n",
    "import datetime as dt\n",
    "import numpy as np\n",
    "import matplotlib as plt"
   ]
  },
  {
   "cell_type": "code",
   "execution_count": 2,
   "metadata": {},
   "outputs": [],
   "source": [
    "query = pd.read_csv(\"QueryResults.csv\", parse_dates = [\"CreationDate\"])"
   ]
  },
  {
   "cell_type": "code",
   "execution_count": 3,
   "metadata": {},
   "outputs": [
    {
     "name": "stdout",
     "output_type": "stream",
     "text": [
      "<class 'pandas.core.frame.DataFrame'>\n",
      "RangeIndex: 6777 entries, 0 to 6776\n",
      "Data columns (total 8 columns):\n",
      " #   Column         Non-Null Count  Dtype         \n",
      "---  ------         --------------  -----         \n",
      " 0   Id             6777 non-null   int64         \n",
      " 1   PostTypeId     6777 non-null   int64         \n",
      " 2   CreationDate   6777 non-null   datetime64[ns]\n",
      " 3   Score          6777 non-null   int64         \n",
      " 4   ViewCount      6777 non-null   int64         \n",
      " 5   Tags           6777 non-null   object        \n",
      " 6   AnswerCount    6777 non-null   int64         \n",
      " 7   FavoriteCount  1597 non-null   float64       \n",
      "dtypes: datetime64[ns](1), float64(1), int64(5), object(1)\n",
      "memory usage: 423.7+ KB\n"
     ]
    }
   ],
   "source": [
    "query.info()"
   ]
  },
  {
   "cell_type": "markdown",
   "metadata": {},
   "source": [
    "As we can see from the data: \n",
    "1. There are alot of missing values in FavoriteCount, this can be fixed by converting the `Null` into 0\n",
    "2. Tags also need to be edited, as there are alot of tags inside them, things we can do is\\\n",
    "a. Only take 1 of them\\\n",
    "b. count the number of tags and find if tags can increase the popularity\\\n",
    "c. Split the tag\\\n",
    "    and we will split the tag to maintain the data "
   ]
  },
  {
   "cell_type": "markdown",
   "metadata": {},
   "source": [
    "### Data Cleaning"
   ]
  },
  {
   "cell_type": "code",
   "execution_count": 4,
   "metadata": {},
   "outputs": [],
   "source": [
    "#First we will fill the null data in FavouriteCount\n",
    "query[\"FavoriteCount\"].fillna(0,inplace = True)"
   ]
  },
  {
   "cell_type": "code",
   "execution_count": 5,
   "metadata": {},
   "outputs": [],
   "source": [
    "#Second we will make the tags into the list\n",
    "query[\"Tags\"] = query[\"Tags\"].str.replace(\"><\", \" \").str.replace(\"<\",\"\").str.replace(\">\",\"\").str.split(\" \").copy()"
   ]
  },
  {
   "cell_type": "code",
   "execution_count": 6,
   "metadata": {},
   "outputs": [
    {
     "data": {
      "text/html": [
       "<div>\n",
       "<style scoped>\n",
       "    .dataframe tbody tr th:only-of-type {\n",
       "        vertical-align: middle;\n",
       "    }\n",
       "\n",
       "    .dataframe tbody tr th {\n",
       "        vertical-align: top;\n",
       "    }\n",
       "\n",
       "    .dataframe thead th {\n",
       "        text-align: right;\n",
       "    }\n",
       "</style>\n",
       "<table border=\"1\" class=\"dataframe\">\n",
       "  <thead>\n",
       "    <tr style=\"text-align: right;\">\n",
       "      <th></th>\n",
       "      <th>Id</th>\n",
       "      <th>PostTypeId</th>\n",
       "      <th>CreationDate</th>\n",
       "      <th>Score</th>\n",
       "      <th>ViewCount</th>\n",
       "      <th>Tags</th>\n",
       "      <th>AnswerCount</th>\n",
       "      <th>FavoriteCount</th>\n",
       "    </tr>\n",
       "  </thead>\n",
       "  <tbody>\n",
       "    <tr>\n",
       "      <th>0</th>\n",
       "      <td>48242</td>\n",
       "      <td>1</td>\n",
       "      <td>2019-03-30 01:32:37</td>\n",
       "      <td>1</td>\n",
       "      <td>122</td>\n",
       "      <td>[keras]</td>\n",
       "      <td>1</td>\n",
       "      <td>0.0</td>\n",
       "    </tr>\n",
       "    <tr>\n",
       "      <th>1</th>\n",
       "      <td>48246</td>\n",
       "      <td>1</td>\n",
       "      <td>2019-03-30 06:11:20</td>\n",
       "      <td>4</td>\n",
       "      <td>7233</td>\n",
       "      <td>[machine-learning, tensorflow, accuracy, metri...</td>\n",
       "      <td>4</td>\n",
       "      <td>1.0</td>\n",
       "    </tr>\n",
       "    <tr>\n",
       "      <th>2</th>\n",
       "      <td>48250</td>\n",
       "      <td>1</td>\n",
       "      <td>2019-03-30 08:25:31</td>\n",
       "      <td>0</td>\n",
       "      <td>6836</td>\n",
       "      <td>[pandas]</td>\n",
       "      <td>1</td>\n",
       "      <td>0.0</td>\n",
       "    </tr>\n",
       "    <tr>\n",
       "      <th>3</th>\n",
       "      <td>48253</td>\n",
       "      <td>1</td>\n",
       "      <td>2019-03-30 09:39:19</td>\n",
       "      <td>0</td>\n",
       "      <td>721</td>\n",
       "      <td>[keras, tensorflow]</td>\n",
       "      <td>1</td>\n",
       "      <td>0.0</td>\n",
       "    </tr>\n",
       "    <tr>\n",
       "      <th>4</th>\n",
       "      <td>48255</td>\n",
       "      <td>1</td>\n",
       "      <td>2019-03-30 10:05:14</td>\n",
       "      <td>1</td>\n",
       "      <td>372</td>\n",
       "      <td>[machine-learning, optimization, gradient-desc...</td>\n",
       "      <td>1</td>\n",
       "      <td>0.0</td>\n",
       "    </tr>\n",
       "  </tbody>\n",
       "</table>\n",
       "</div>"
      ],
      "text/plain": [
       "      Id  PostTypeId        CreationDate  Score  ViewCount  \\\n",
       "0  48242           1 2019-03-30 01:32:37      1        122   \n",
       "1  48246           1 2019-03-30 06:11:20      4       7233   \n",
       "2  48250           1 2019-03-30 08:25:31      0       6836   \n",
       "3  48253           1 2019-03-30 09:39:19      0        721   \n",
       "4  48255           1 2019-03-30 10:05:14      1        372   \n",
       "\n",
       "                                                Tags  AnswerCount  \\\n",
       "0                                            [keras]            1   \n",
       "1  [machine-learning, tensorflow, accuracy, metri...            4   \n",
       "2                                           [pandas]            1   \n",
       "3                                [keras, tensorflow]            1   \n",
       "4  [machine-learning, optimization, gradient-desc...            1   \n",
       "\n",
       "   FavoriteCount  \n",
       "0            0.0  \n",
       "1            1.0  \n",
       "2            0.0  \n",
       "3            0.0  \n",
       "4            0.0  "
      ]
     },
     "execution_count": 6,
     "metadata": {},
     "output_type": "execute_result"
    }
   ],
   "source": [
    "query.head(5)"
   ]
  },
  {
   "cell_type": "markdown",
   "metadata": {},
   "source": [
    "### Data Analysis"
   ]
  },
  {
   "cell_type": "code",
   "execution_count": 7,
   "metadata": {},
   "outputs": [
    {
     "data": {
      "text/plain": [
       "machine-learning    2135\n",
       "python              1447\n",
       "deep-learning        890\n",
       "neural-network       820\n",
       "keras                706\n",
       "classification       579\n",
       "scikit-learn         448\n",
       "tensorflow           413\n",
       "nlp                  393\n",
       "cnn                  379\n",
       "Name: Tags, dtype: int64"
      ]
     },
     "execution_count": 7,
     "metadata": {},
     "output_type": "execute_result"
    }
   ],
   "source": [
    "#Now we are going to find out which tags has the highest time used\n",
    "most_used = query[\"Tags\"].explode().value_counts().sort_values(ascending = False)\n",
    "most_used.head(10)"
   ]
  },
  {
   "cell_type": "code",
   "execution_count": 8,
   "metadata": {},
   "outputs": [
    {
     "data": {
      "image/png": "[encoded data removed]",
      "text/plain": [
       "<Figure size 864x432 with 1 Axes>"
      ]
     },
     "metadata": {
      "needs_background": "light"
     },
     "output_type": "display_data"
    }
   ],
   "source": [
    "#Top 10 performers\n",
    "ax = most_used.head(20).plot(kind = \"barh\", figsize =(12,6))"
   ]
  },
  {
   "cell_type": "code",
   "execution_count": 9,
   "metadata": {},
   "outputs": [],
   "source": [
    "#Times tag viewed \n",
    "view_tags = pd.merge(query[\"Tags\"].explode(),query[\"ViewCount\"],how = \"left\", left_index= True, right_index = True)"
   ]
  },
  {
   "cell_type": "code",
   "execution_count": 10,
   "metadata": {},
   "outputs": [],
   "source": [
    "most_viewed = view_tags.groupby([\"Tags\"])[\"ViewCount\"].sum().sort_values(ascending =False)"
   ]
  },
  {
   "cell_type": "code",
   "execution_count": 11,
   "metadata": {},
   "outputs": [
    {
     "data": {
      "text/plain": [
       "Tags\n",
       "python              1945728\n",
       "machine-learning    1261727\n",
       "pandas               902218\n",
       "keras                831846\n",
       "deep-learning        720269\n",
       "neural-network       619420\n",
       "scikit-learn         465518\n",
       "tensorflow           419774\n",
       "classification       355663\n",
       "dataframe            338241\n",
       "cnn                  270445\n",
       "nlp                  257931\n",
       "lstm                 225047\n",
       "time-series          208555\n",
       "numpy                189916\n",
       "regression           152675\n",
       "pytorch              146022\n",
       "csv                  141548\n",
       "dataset              130517\n",
       "xgboost              124645\n",
       "Name: ViewCount, dtype: int64"
      ]
     },
     "execution_count": 11,
     "metadata": {},
     "output_type": "execute_result"
    }
   ],
   "source": [
    "most_viewed.head(20)"
   ]
  },
  {
   "cell_type": "code",
   "execution_count": 12,
   "metadata": {},
   "outputs": [
    {
     "data": {
      "image/png": "[encoded data removed]",
      "text/plain": [
       "<Figure size 864x432 with 1 Axes>"
      ]
     },
     "metadata": {
      "needs_background": "light"
     },
     "output_type": "display_data"
    }
   ],
   "source": [
    "ax = most_viewed.head(20).plot(kind = \"barh\", xlabel=\"\", figsize = (12,6))"
   ]
  },
  {
   "cell_type": "code",
   "execution_count": 25,
   "metadata": {
    "scrolled": true
   },
   "outputs": [
    {
     "name": "stdout",
     "output_type": "stream",
     "text": [
      "<class 'pandas.core.frame.DataFrame'>\n",
      "RangeIndex: 50000 entries, 0 to 49999\n",
      "Data columns (total 3 columns):\n",
      " #   Column        Non-Null Count  Dtype         \n",
      "---  ------        --------------  -----         \n",
      " 0   id            50000 non-null  int64         \n",
      " 1   CreationDate  50000 non-null  datetime64[ns]\n",
      " 2   Tags          50000 non-null  object        \n",
      "dtypes: datetime64[ns](1), int64(1), object(1)\n",
      "memory usage: 1.1+ MB\n"
     ]
    }
   ],
   "source": [
    "#Deep Learning Auestion analysis\n",
    "#To Analyze this, we wll focus on the tags, whether the id has deep learning tags on it \n",
    "#First question is how many deep learning questions asked per period\n",
    "allq = pd.read_csv(\"Allq.csv\",parse_dates = [\"CreationDate\"])\n",
    "allq.info()"
   ]
  },
  {
   "cell_type": "code",
   "execution_count": 26,
   "metadata": {},
   "outputs": [],
   "source": [
    "allq[\"Tags\"] = allq[\"Tags\"].str.replace(\"><\",\" \").str.replace(\"<\",\"\").str.replace(\">\",\"\").str.split(\" \").copy()"
   ]
  },
  {
   "cell_type": "code",
   "execution_count": 38,
   "metadata": {},
   "outputs": [
    {
     "data": {
      "text/plain": [
       "32"
      ]
     },
     "execution_count": 38,
     "metadata": {},
     "output_type": "execute_result"
    }
   ],
   "source": [
    "allq[\"Tags\"].explode().value_counts()[\"deep-learning\"]"
   ]
  },
  {
   "cell_type": "code",
   "execution_count": 16,
   "metadata": {},
   "outputs": [
    {
     "ename": "NameError",
     "evalue": "name 'deep_learning' is not defined",
     "output_type": "error",
     "traceback": [
      "\u001b[1;31m---------------------------------------------------------------------------\u001b[0m",
      "\u001b[1;31mNameError\u001b[0m                                 Traceback (most recent call last)",
      "\u001b[1;32m<ipython-input-16-68ff8c5d7011>\u001b[0m in \u001b[0;36m<module>\u001b[1;34m\u001b[0m\n\u001b[1;32m----> 1\u001b[1;33m \u001b[0mdeep_learning\u001b[0m\u001b[1;33m.\u001b[0m\u001b[0minfo\u001b[0m\u001b[1;33m(\u001b[0m\u001b[1;33m)\u001b[0m\u001b[1;33m\u001b[0m\u001b[1;33m\u001b[0m\u001b[0m\n\u001b[0m",
      "\u001b[1;31mNameError\u001b[0m: name 'deep_learning' is not defined"
     ]
    }
   ],
   "source": []
  },
  {
   "cell_type": "code",
   "execution_count": null,
   "metadata": {},
   "outputs": [],
   "source": [
    "deep_learning[\"yearmonth\"] = deep_learning[\"CreationDate\"].dt.year *100 + deep_learning[\"CreationDate\"].dt.month"
   ]
  },
  {
   "cell_type": "code",
   "execution_count": null,
   "metadata": {},
   "outputs": [],
   "source": []
  }
 ],
 "metadata": {
  "kernelspec": {
   "display_name": "Python 3",
   "language": "python",
   "name": "python3"
  },
  "language_info": {
   "codemirror_mode": {
    "name": "ipython",
    "version": 3
   },
   "file_extension": ".py",
   "mimetype": "text/x-python",
   "name": "python",
   "nbconvert_exporter": "python",
   "pygments_lexer": "ipython3",
   "version": "3.8.5"
  }
 },
 "nbformat": 4,
 "nbformat_minor": 4
}
